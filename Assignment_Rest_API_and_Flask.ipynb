{
  "nbformat": 4,
  "nbformat_minor": 0,
  "metadata": {
    "colab": {
      "provenance": []
    },
    "kernelspec": {
      "name": "python3",
      "display_name": "Python 3"
    },
    "language_info": {
      "name": "python"
    }
  },
  "cells": [
    {
      "cell_type": "markdown",
      "source": [
        "# Theoretical"
      ],
      "metadata": {
        "id": "3eHV_j7EhoQq"
      }
    },
    {
      "cell_type": "markdown",
      "source": [
        "1. What is a RESTful API\n",
        "  - A RESTful API (Representational State Transfer) is a type of web API that follows REST principles.\n",
        "  - It allows clients to interact with server resources using standard HTTP methods like GET, POST, PUT, DELETE.\n",
        "  - Each resource is identified by a URL, and operations are stateless.\n",
        "\n",
        "2. Explain the concept of API specification\n",
        "  - An API specification is a detailed document that defines how an API works.\n",
        "  - It includes endpoints, request/response formats, authentication mechanisms, and error codes.\n",
        "\n",
        "3. What is Flask, and why is it popular for building APIs\n",
        "  - Flask is a micro web framework in Python used to build web apps and APIs.\n",
        "  - It is popular due to its simplicity, minimalism, and flexibility.\n",
        "  - It requires little boilerplate code and allows quick setup for REST APIs using tools like Flask-RESTful.\n",
        "\n",
        "4. What is routing in Flask\n",
        "  - Routing in Flask refers to mapping URLs to Python functions.\n",
        "  - This is done using the @app.route() decorator.\n",
        "  - When a specific URL is accessed, Flask executes the function associated with that route.\n",
        "\n",
        "5. How do you create a simple Flask application\n",
        "        from flask import Flask\n",
        "        app = Flask(__name__)\n",
        "\n",
        "        @app.route('/')\n",
        "        def home():\n",
        "            return 'Hello, World!'\n",
        "\n",
        "  To run this locally:\n",
        "          app.run(debug=True)\n",
        "\n",
        "6. What are HTTP methods used in RESTful APIs\n",
        "  - RESTful APIs use standard HTTP methods:\n",
        "    - GET: Retrieve data\n",
        "    - POST: Create new data\n",
        "    - PUT: Update existing data\n",
        "    - DELETE: Remove data\n",
        "    - PATCH: Partially update data\n",
        "    - OPTIONS: Describe communication options\n",
        "\n",
        "7. What is the purpose of the @app.route() decorator in Flask\n",
        "  - The @app.route() decorator is used to define URL routes in Flask.\n",
        "  - It tells Flask which function to call when a specific URL is accessed.\n",
        "  - It also allows specifying allowed HTTP methods for that route.\n",
        "\n",
        "8. What is the difference between GET and POST HTTP methods\n",
        "  - GET is used to request data from the server. Parameters are passed in the URL.\n",
        "  - POST is used to send data to the server, typically for creation. Data is sent in the request body.\n",
        "  GET is visible in the URL and is idempotent; POST is not.\n",
        "\n",
        "9. How do you handle errors in Flask APIs\n",
        "        from flask import jsonify\n",
        "\n",
        "        @app.errorhandler(404)\n",
        "        def not_found(e):\n",
        "            return jsonify({'error': 'Resource not found'}), 404\n",
        "\n",
        "  You can define handlers for other errors like 500 (Internal Server Error) similarly.\n",
        "\n",
        "10. How do you connect Flask to a SQL database\n",
        "        from flask_sqlalchemy import SQLAlchemy\n",
        "\n",
        "        app.config['SQLALCHEMY_DATABASE_URI'] = 'sqlite:///data.db'\n",
        "        db = SQLAlchemy(app)\n",
        "\n",
        "  This sets up SQLAlchemy to use a SQLite database. Other databases can be configured similarly.\n",
        "\n",
        "11. What is the role of Flask-SQLAlchemy\n",
        "  - Flask-SQLAlchemy is an ORM (Object Relational Mapper) extension for Flask.\n",
        "  - It allows to define Python classes as database models and interact with the database using Python code.\n",
        "  - It simplifies querying, updating, and managing databases.\n",
        "\n",
        "12. What are Flask blueprints, and how are they useful\n",
        "  - Blueprints are a way to organize Flask apps into reusable components or modules.\n",
        "  - They allow to define routes and views in separate files and register them in the main app.\n",
        "  - This is especially useful for large applications.\n",
        "\n",
        "13. What is the purpose of Flask's request object\n",
        "        from flask import request\n",
        "\n",
        "  - The request object provides access to incoming request data like:\n",
        "      - request.form (form data)\n",
        "      - request.args (query parameters)\n",
        "      - request.json (JSON body)\n",
        "      - request.headers (request headers)\n",
        "\n",
        "14. How do you create a RESTful API endpoint using Flask\n",
        "        from flask import jsonify\n",
        "\n",
        "        @app.route('/api/data', methods=['GET'])\n",
        "        def get_data():\n",
        "            return jsonify({'message': 'This is a REST API endpoint'})\n",
        "\n",
        "15. What is the purpose of Flask's jsonify() function\n",
        "  - jsonify() converts Python dictionaries/lists to a JSON response.\n",
        "  - It also sets the appropriate Content-Type header as application/json.\n",
        "\n",
        "16. Explain Flask’s url_for() function\n",
        "        from flask import url_for\n",
        "\n",
        "  - url_for() dynamically generates URLs for routes using the function name.\n",
        "  - Useful for avoiding hardcoded URLs and enabling easier refactoring.\n",
        "  - Example: url_for('home') returns '/'\n",
        "\n",
        "17. How does Flask handle static files (CSS, JavaScript, etc.)\n",
        "  - Flask automatically serves files placed in the /static folder.\n",
        "  - It can be accessed using /static/filename.ext\n",
        "  - Example:\n",
        "          <link rel=\"stylesheet\" href=\"/static/style.css\">\n",
        "\n",
        "18. What is an API specification, and how does it help in building a Flask API\n",
        "  - An API specification defines how an API behaves: available endpoints, parameters, responses, and error codes.\n",
        "  - It helps in consistent development and enables automated testing, documentation, and client generation.\n",
        "\n",
        "19. What are HTTP status codes, and why are they important in a Flask API\n",
        "  - HTTP status codes are returned with every API response to indicate the result:\n",
        "      - 200: OK\n",
        "      - 201: Created\n",
        "      - 400: Bad Request\n",
        "      - 401: Unauthorized\n",
        "      - 404: Not Found\n",
        "      - 500: Server Error\n",
        "  - They help understand the result of request.\n",
        "\n",
        "20. How do you handle POST requests in Flask\n",
        "        @app.route('/submit', methods=['POST'])\n",
        "        def submit():\n",
        "            data = request.json  # Or request.form if using form data\n",
        "            return jsonify({'received': data})\n",
        "\n",
        "21. How would you secure a Flask API\n",
        "  - Common security practices:\n",
        "      - Use HTTPS\n",
        "      - Validate and sanitize input\n",
        "      - Use authentication (e.g., API keys, OAuth, JWT)\n",
        "      - Enable CORS carefully\n",
        "      - Implement rate limiting and error handling\n",
        "\n",
        "22. What is the significance of the Flask-RESTful extension\n",
        "  - Flask-RESTful simplifies API development using class-based views.\n",
        "  - It allows easy definition of REST resources, method handling, and automatic request parsing.\n",
        "\n",
        "23. What is the role of Flask’s session object?\n",
        "        from flask import session\n",
        "\n",
        "  - Flask’s session object stores user data between requests using secure cookies.\n",
        "  - Example: session['username'] = 'admin'\n",
        "  - Useful for login/session management.\n"
      ],
      "metadata": {
        "id": "KnZVp9DShwt4"
      }
    },
    {
      "cell_type": "markdown",
      "source": [
        "# Practical"
      ],
      "metadata": {
        "id": "ucxl79Fync9W"
      }
    },
    {
      "cell_type": "code",
      "source": [
        "!pip install flask-ngrok\n",
        "!pip install flask-ngrok pyngrok\n",
        "!pip install flask pyngrok --quiet"
      ],
      "metadata": {
        "colab": {
          "base_uri": "https://localhost:8080/"
        },
        "id": "WqZLKwNSqqyj",
        "outputId": "98f5b1ce-eadb-440d-8879-5df34e0b9392"
      },
      "execution_count": 8,
      "outputs": [
        {
          "output_type": "stream",
          "name": "stdout",
          "text": [
            "Requirement already satisfied: flask-ngrok in /usr/local/lib/python3.11/dist-packages (0.0.25)\n",
            "Requirement already satisfied: Flask>=0.8 in /usr/local/lib/python3.11/dist-packages (from flask-ngrok) (3.1.1)\n",
            "Requirement already satisfied: requests in /usr/local/lib/python3.11/dist-packages (from flask-ngrok) (2.32.3)\n",
            "Requirement already satisfied: blinker>=1.9.0 in /usr/local/lib/python3.11/dist-packages (from Flask>=0.8->flask-ngrok) (1.9.0)\n",
            "Requirement already satisfied: click>=8.1.3 in /usr/local/lib/python3.11/dist-packages (from Flask>=0.8->flask-ngrok) (8.2.0)\n",
            "Requirement already satisfied: itsdangerous>=2.2.0 in /usr/local/lib/python3.11/dist-packages (from Flask>=0.8->flask-ngrok) (2.2.0)\n",
            "Requirement already satisfied: jinja2>=3.1.2 in /usr/local/lib/python3.11/dist-packages (from Flask>=0.8->flask-ngrok) (3.1.6)\n",
            "Requirement already satisfied: markupsafe>=2.1.1 in /usr/local/lib/python3.11/dist-packages (from Flask>=0.8->flask-ngrok) (3.0.2)\n",
            "Requirement already satisfied: werkzeug>=3.1.0 in /usr/local/lib/python3.11/dist-packages (from Flask>=0.8->flask-ngrok) (3.1.3)\n",
            "Requirement already satisfied: charset-normalizer<4,>=2 in /usr/local/lib/python3.11/dist-packages (from requests->flask-ngrok) (3.4.2)\n",
            "Requirement already satisfied: idna<4,>=2.5 in /usr/local/lib/python3.11/dist-packages (from requests->flask-ngrok) (3.10)\n",
            "Requirement already satisfied: urllib3<3,>=1.21.1 in /usr/local/lib/python3.11/dist-packages (from requests->flask-ngrok) (2.4.0)\n",
            "Requirement already satisfied: certifi>=2017.4.17 in /usr/local/lib/python3.11/dist-packages (from requests->flask-ngrok) (2025.4.26)\n",
            "Requirement already satisfied: flask-ngrok in /usr/local/lib/python3.11/dist-packages (0.0.25)\n",
            "Collecting pyngrok\n",
            "  Downloading pyngrok-7.2.8-py3-none-any.whl.metadata (10 kB)\n",
            "Requirement already satisfied: Flask>=0.8 in /usr/local/lib/python3.11/dist-packages (from flask-ngrok) (3.1.1)\n",
            "Requirement already satisfied: requests in /usr/local/lib/python3.11/dist-packages (from flask-ngrok) (2.32.3)\n",
            "Requirement already satisfied: PyYAML>=5.1 in /usr/local/lib/python3.11/dist-packages (from pyngrok) (6.0.2)\n",
            "Requirement already satisfied: blinker>=1.9.0 in /usr/local/lib/python3.11/dist-packages (from Flask>=0.8->flask-ngrok) (1.9.0)\n",
            "Requirement already satisfied: click>=8.1.3 in /usr/local/lib/python3.11/dist-packages (from Flask>=0.8->flask-ngrok) (8.2.0)\n",
            "Requirement already satisfied: itsdangerous>=2.2.0 in /usr/local/lib/python3.11/dist-packages (from Flask>=0.8->flask-ngrok) (2.2.0)\n",
            "Requirement already satisfied: jinja2>=3.1.2 in /usr/local/lib/python3.11/dist-packages (from Flask>=0.8->flask-ngrok) (3.1.6)\n",
            "Requirement already satisfied: markupsafe>=2.1.1 in /usr/local/lib/python3.11/dist-packages (from Flask>=0.8->flask-ngrok) (3.0.2)\n",
            "Requirement already satisfied: werkzeug>=3.1.0 in /usr/local/lib/python3.11/dist-packages (from Flask>=0.8->flask-ngrok) (3.1.3)\n",
            "Requirement already satisfied: charset-normalizer<4,>=2 in /usr/local/lib/python3.11/dist-packages (from requests->flask-ngrok) (3.4.2)\n",
            "Requirement already satisfied: idna<4,>=2.5 in /usr/local/lib/python3.11/dist-packages (from requests->flask-ngrok) (3.10)\n",
            "Requirement already satisfied: urllib3<3,>=1.21.1 in /usr/local/lib/python3.11/dist-packages (from requests->flask-ngrok) (2.4.0)\n",
            "Requirement already satisfied: certifi>=2017.4.17 in /usr/local/lib/python3.11/dist-packages (from requests->flask-ngrok) (2025.4.26)\n",
            "Downloading pyngrok-7.2.8-py3-none-any.whl (25 kB)\n",
            "Installing collected packages: pyngrok\n",
            "Successfully installed pyngrok-7.2.8\n"
          ]
        }
      ]
    },
    {
      "cell_type": "code",
      "source": [
        "import getpass\n",
        "from pyngrok import ngrok\n",
        "\n",
        "NGROK_AUTH_TOKEN = getpass.getpass(\"Paste your ngrok authtoken here: \")\n",
        "\n",
        "!ngrok config add-authtoken $NGROK_AUTH_TOKEN"
      ],
      "metadata": {
        "colab": {
          "base_uri": "https://localhost:8080/"
        },
        "id": "jGWO-ixhzvXO",
        "outputId": "47ed81e0-df28-40f9-a4aa-0d40fcbaa8c1"
      },
      "execution_count": 26,
      "outputs": [
        {
          "output_type": "stream",
          "name": "stdout",
          "text": [
            "Paste your ngrok authtoken here: ··········\n",
            "Authtoken saved to configuration file: /root/.config/ngrok/ngrok.yml\n"
          ]
        }
      ]
    },
    {
      "cell_type": "markdown",
      "metadata": {
        "id": "bd2c5d36"
      },
      "source": [
        "# 1. How do you create a basic Flask application"
      ]
    },
    {
      "cell_type": "code",
      "execution_count": 11,
      "metadata": {
        "colab": {
          "base_uri": "https://localhost:8080/"
        },
        "id": "_HHlljBDhXdg",
        "outputId": "6cfe4f79-437a-487f-8708-c9ab01a79ab8"
      },
      "outputs": [
        {
          "output_type": "stream",
          "name": "stdout",
          "text": [
            "Paste your ngrok authtoken here: ··········\n",
            "/bin/bash: -c: line 1: syntax error near unexpected token `('\n",
            "/bin/bash: -c: line 1: `ngrok config add-authtoken Argument of type \"Literal[5000]\" cannot be assigned to parameter \"addr\" of type \"str | None\" in function \"connect\"   Type \"Literal[5000]\" cannot be assigned to type \"str | None\"     \"Literal[5000]\" is incompatible with \"str\"     Type cannot be assigned to type \"None\"(reportGeneralTypeIssues)'\n",
            "🔗 Public URL: NgrokTunnel: \"https://0592-34-23-50-177.ngrok-free.app\" -> \"http://localhost:5000\"\n",
            " * Serving Flask app '__main__'\n",
            " * Debug mode: off\n"
          ]
        },
        {
          "output_type": "stream",
          "name": "stderr",
          "text": [
            "INFO:werkzeug:\u001b[31m\u001b[1mWARNING: This is a development server. Do not use it in a production deployment. Use a production WSGI server instead.\u001b[0m\n",
            " * Running on http://127.0.0.1:5000\n",
            "INFO:werkzeug:\u001b[33mPress CTRL+C to quit\u001b[0m\n",
            "INFO:werkzeug:127.0.0.1 - - [17/May/2025 19:31:31] \"GET / HTTP/1.1\" 200 -\n",
            "INFO:werkzeug:127.0.0.1 - - [17/May/2025 19:31:31] \"\u001b[33mGET /favicon.ico HTTP/1.1\u001b[0m\" 404 -\n"
          ]
        }
      ],
      "source": [
        "from flask import Flask\n",
        "from pyngrok import ngrok\n",
        "ngrok.kill()\n",
        "\n",
        "app = Flask(__name__)\n",
        "\n",
        "@app.route('/')\n",
        "def home():\n",
        "    return 'Hello, Flask from ngrok in Colab!'\n",
        "\n",
        "public_url = ngrok.connect(\"5000\")\n",
        "print(\"🔗 Public URL:\", public_url)\n",
        "\n",
        "app.run(port=5000)\n"
      ]
    },
    {
      "cell_type": "markdown",
      "source": [
        "2. How do you serve static files like images or CSS in Flask\n",
        "\n",
        "  - Place files in the /static folder. Flask serves them automatically.\n",
        "  - Example usage in HTML:\n",
        "          <img src=\"/static/image.png\">\n",
        "          <link rel=\"stylesheet\" href=\"/static/style.css\">"
      ],
      "metadata": {
        "id": "JUTFGUdTvXDn"
      }
    },
    {
      "cell_type": "markdown",
      "source": [
        "# 3. How do you define different routes with different HTTP methods in Flask"
      ],
      "metadata": {
        "id": "K0oZ-ghTvjm4"
      }
    },
    {
      "cell_type": "code",
      "source": [
        "from flask import Flask, request\n",
        "from pyngrok import ngrok\n",
        "ngrok.kill()\n",
        "\n",
        "app = Flask(__name__)\n",
        "\n",
        "@app.route('/get-example', methods=['GET'])\n",
        "def get_example():\n",
        "    return 'This is a GET route'\n",
        "\n",
        "@app.route('/post-example', methods=['POST'])\n",
        "def post_example():\n",
        "    data = request.form.get('data', 'No data received')\n",
        "    return f'Received via POST: {data}'\n",
        "\n",
        "@app.route('/put-example', methods=['PUT'])\n",
        "def put_example():\n",
        "    return 'This is a PUT route'\n",
        "\n",
        "@app.route('/delete-example', methods=['DELETE'])\n",
        "def delete_example():\n",
        "    return 'This is a DELETE route'\n",
        "\n",
        "# Start ngrok tunnel\n",
        "public_url = ngrok.connect(\"5000\")\n",
        "print(\"Public URL:\", public_url)\n",
        "\n",
        "app.run(port=5000)\n"
      ],
      "metadata": {
        "colab": {
          "base_uri": "https://localhost:8080/"
        },
        "id": "K5lxhm18pa9b",
        "outputId": "469c9bc1-41f5-4b3e-e5de-58dabda94f77"
      },
      "execution_count": 13,
      "outputs": [
        {
          "output_type": "stream",
          "name": "stdout",
          "text": [
            "Public URL: NgrokTunnel: \"https://de5c-34-23-50-177.ngrok-free.app\" -> \"http://localhost:5000\"\n"
          ]
        }
      ]
    },
    {
      "cell_type": "markdown",
      "source": [
        "# 4. How do you render HTML templates in Flask"
      ],
      "metadata": {
        "id": "E0z_u_gDwleR"
      }
    },
    {
      "cell_type": "code",
      "source": [
        "from flask import Flask, render_template\n",
        "from pyngrok import ngrok\n",
        "ngrok.kill()\n",
        "\n",
        "app = Flask(__name__)\n",
        "\n",
        "@app.route('/')\n",
        "def render_html():\n",
        "    return render_template('index.html')  # Ensure index.html is in the /templates directory\n",
        "\n",
        "public_url = ngrok.connect(\"5000\")\n",
        "print(\"Public URL:\", public_url)\n",
        "\n",
        "app.run(port=5000)  #uncomment before running the app\n"
      ],
      "metadata": {
        "colab": {
          "base_uri": "https://localhost:8080/"
        },
        "id": "vLkXu5QLwiVV",
        "outputId": "330cb693-e906-424a-8215-cd1e9c19ad71"
      },
      "execution_count": 25,
      "outputs": [
        {
          "output_type": "stream",
          "name": "stdout",
          "text": [
            "Public URL: NgrokTunnel: \"https://e115-34-23-50-177.ngrok-free.app\" -> \"http://localhost:5000\"\n",
            " * Serving Flask app '__main__'\n",
            " * Debug mode: off\n"
          ]
        },
        {
          "output_type": "stream",
          "name": "stderr",
          "text": [
            "INFO:werkzeug:\u001b[31m\u001b[1mWARNING: This is a development server. Do not use it in a production deployment. Use a production WSGI server instead.\u001b[0m\n",
            " * Running on http://127.0.0.1:5000\n",
            "INFO:werkzeug:\u001b[33mPress CTRL+C to quit\u001b[0m\n",
            "INFO:werkzeug:127.0.0.1 - - [17/May/2025 19:51:21] \"GET / HTTP/1.1\" 200 -\n",
            "INFO:werkzeug:127.0.0.1 - - [17/May/2025 19:51:21] \"\u001b[33mGET /favicon.ico HTTP/1.1\u001b[0m\" 404 -\n"
          ]
        }
      ]
    },
    {
      "cell_type": "markdown",
      "source": [
        "# 5. How can you generate URLs for routes in Flask using url_for"
      ],
      "metadata": {
        "id": "RGPmAJ_5zecR"
      }
    },
    {
      "cell_type": "code",
      "source": [
        "from flask import Flask, url_for\n",
        "from pyngrok import ngrok\n",
        "ngrok.kill()\n",
        "\n",
        "app = Flask(__name__)\n",
        "\n",
        "@app.route('/example')\n",
        "def example():\n",
        "    return f\"Home route is at: {url_for('home')}\"\n",
        "\n",
        "@app.route('/')\n",
        "def home1():\n",
        "    return 'Welcome to home!'\n",
        "\n",
        "public_url = ngrok.connect(\"5000\")\n",
        "print(\"Public URL:\", public_url)\n",
        "\n",
        "app.run(port=5000)\n"
      ],
      "metadata": {
        "colab": {
          "base_uri": "https://localhost:8080/"
        },
        "id": "DO3He2S_xF2B",
        "outputId": "5b74e004-5343-4f0e-90e4-d105679b5610"
      },
      "execution_count": 27,
      "outputs": [
        {
          "output_type": "stream",
          "name": "stdout",
          "text": [
            "Public URL: NgrokTunnel: \"https://5e2a-34-23-50-177.ngrok-free.app\" -> \"http://localhost:5000\"\n",
            " * Serving Flask app '__main__'\n",
            " * Debug mode: off\n"
          ]
        },
        {
          "output_type": "stream",
          "name": "stderr",
          "text": [
            "INFO:werkzeug:\u001b[31m\u001b[1mWARNING: This is a development server. Do not use it in a production deployment. Use a production WSGI server instead.\u001b[0m\n",
            " * Running on http://127.0.0.1:5000\n",
            "INFO:werkzeug:\u001b[33mPress CTRL+C to quit\u001b[0m\n",
            "INFO:werkzeug:127.0.0.1 - - [17/May/2025 19:56:37] \"GET / HTTP/1.1\" 200 -\n",
            "INFO:werkzeug:127.0.0.1 - - [17/May/2025 19:56:37] \"\u001b[33mGET /favicon.ico HTTP/1.1\u001b[0m\" 404 -\n"
          ]
        }
      ]
    },
    {
      "cell_type": "markdown",
      "source": [
        "# 6. How do you handle forms in Flask"
      ],
      "metadata": {
        "id": "gkINRE7x0v-8"
      }
    },
    {
      "cell_type": "code",
      "source": [
        "from flask import Flask, request\n",
        "from flask import redirect\n",
        "from pyngrok import ngrok\n",
        "ngrok.kill()\n",
        "\n",
        "app = Flask(__name__)\n",
        "\n",
        "@app.route('/')\n",
        "def home2():\n",
        "    return redirect('/form')\n",
        "\n",
        "@app.route('/form', methods=['GET', 'POST'])\n",
        "def form():\n",
        "    if request.method == 'POST':\n",
        "        name = request.form['name']\n",
        "        return f'Hello, {name}!'\n",
        "    return \"\"\"\n",
        "<form method='POST'>\n",
        "    Name: <input type='text' name='name'>\n",
        "    <input type='submit'>\n",
        "</form>\n",
        "\"\"\"\n",
        "\n",
        "public_url = ngrok.connect(\"5000\")\n",
        "print(\"Public URL:\", public_url)\n",
        "\n",
        "app.run(port=5000)\n"
      ],
      "metadata": {
        "colab": {
          "base_uri": "https://localhost:8080/"
        },
        "id": "wh6RKH270c8d",
        "outputId": "2a5f24cc-9aa4-4eeb-a61f-c74e0d9a0d5d"
      },
      "execution_count": 31,
      "outputs": [
        {
          "output_type": "stream",
          "name": "stdout",
          "text": [
            "Public URL: NgrokTunnel: \"https://f804-34-23-50-177.ngrok-free.app\" -> \"http://localhost:5000\"\n",
            " * Serving Flask app '__main__'\n",
            " * Debug mode: off\n"
          ]
        },
        {
          "output_type": "stream",
          "name": "stderr",
          "text": [
            "INFO:werkzeug:\u001b[31m\u001b[1mWARNING: This is a development server. Do not use it in a production deployment. Use a production WSGI server instead.\u001b[0m\n",
            " * Running on http://127.0.0.1:5000\n",
            "INFO:werkzeug:\u001b[33mPress CTRL+C to quit\u001b[0m\n",
            "INFO:werkzeug:127.0.0.1 - - [17/May/2025 20:03:14] \"\u001b[32mGET / HTTP/1.1\u001b[0m\" 302 -\n",
            "INFO:werkzeug:127.0.0.1 - - [17/May/2025 20:03:15] \"GET /form HTTP/1.1\" 200 -\n",
            "INFO:werkzeug:127.0.0.1 - - [17/May/2025 20:03:16] \"\u001b[33mGET /favicon.ico HTTP/1.1\u001b[0m\" 404 -\n",
            "INFO:werkzeug:127.0.0.1 - - [17/May/2025 20:03:18] \"POST /form HTTP/1.1\" 200 -\n"
          ]
        }
      ]
    },
    {
      "cell_type": "markdown",
      "source": [
        "# 7. How can you validate form data in Flask"
      ],
      "metadata": {
        "id": "3hFYWnSg2WuQ"
      }
    },
    {
      "cell_type": "code",
      "source": [
        "from flask import Flask, request\n",
        "from flask import redirect\n",
        "from pyngrok import ngrok\n",
        "ngrok.kill()\n",
        "\n",
        "app = Flask(__name__)\n",
        "\n",
        "@app.route('/')\n",
        "def home3():\n",
        "    return redirect('/validate')\n",
        "\n",
        "@app.route('/validate', methods=['GET', 'POST'])\n",
        "def validate():\n",
        "    if request.method == 'POST':\n",
        "        age = request.form.get('age')\n",
        "        if not age or not age.isdigit():\n",
        "            return 'Invalid age'\n",
        "        return f'Valid age: {age}'\n",
        "    return \"\"\"\n",
        "    <form method='POST'>\n",
        "        Age: <input type='text' name='age'>\n",
        "        <input type='submit'>\n",
        "    </form>\n",
        "    \"\"\"\n",
        "\n",
        "public_url = ngrok.connect(\"5000\")\n",
        "print(\"Public URL:\", public_url)\n",
        "\n",
        "app.run(port=5000)\n"
      ],
      "metadata": {
        "colab": {
          "base_uri": "https://localhost:8080/"
        },
        "id": "LZfSP76k04Gq",
        "outputId": "96f07474-ebdb-4f89-ad2c-c41d1969a0f9"
      },
      "execution_count": 34,
      "outputs": [
        {
          "output_type": "stream",
          "name": "stdout",
          "text": [
            "Public URL: NgrokTunnel: \"https://79d5-34-23-50-177.ngrok-free.app\" -> \"http://localhost:5000\"\n",
            " * Serving Flask app '__main__'\n",
            " * Debug mode: off\n"
          ]
        },
        {
          "output_type": "stream",
          "name": "stderr",
          "text": [
            "INFO:werkzeug:\u001b[31m\u001b[1mWARNING: This is a development server. Do not use it in a production deployment. Use a production WSGI server instead.\u001b[0m\n",
            " * Running on http://127.0.0.1:5000\n",
            "INFO:werkzeug:\u001b[33mPress CTRL+C to quit\u001b[0m\n",
            "INFO:werkzeug:127.0.0.1 - - [17/May/2025 20:09:15] \"\u001b[32mGET / HTTP/1.1\u001b[0m\" 302 -\n",
            "INFO:werkzeug:127.0.0.1 - - [17/May/2025 20:09:16] \"GET /validate HTTP/1.1\" 200 -\n",
            "INFO:werkzeug:127.0.0.1 - - [17/May/2025 20:09:17] \"\u001b[33mGET /favicon.ico HTTP/1.1\u001b[0m\" 404 -\n",
            "INFO:werkzeug:127.0.0.1 - - [17/May/2025 20:09:21] \"POST /validate HTTP/1.1\" 200 -\n",
            "INFO:werkzeug:127.0.0.1 - - [17/May/2025 20:09:25] \"POST /validate HTTP/1.1\" 200 -\n",
            "INFO:werkzeug:127.0.0.1 - - [17/May/2025 20:09:27] \"GET /validate HTTP/1.1\" 200 -\n",
            "INFO:werkzeug:127.0.0.1 - - [17/May/2025 20:09:30] \"POST /validate HTTP/1.1\" 200 -\n"
          ]
        }
      ]
    },
    {
      "cell_type": "markdown",
      "source": [
        "# 8. How do you manage sessions in Flask"
      ],
      "metadata": {
        "id": "x7ozY5d_3vs4"
      }
    },
    {
      "cell_type": "code",
      "source": [
        "from flask import Flask, session\n",
        "from flask import redirect\n",
        "from pyngrok import ngrok\n",
        "ngrok.kill()\n",
        "\n",
        "app = Flask(__name__)\n",
        "app.secret_key = 'a_random_and_long_string_provided_by_Nikhil_Jha_for_learning_123456_ding_dong'\n",
        "\n",
        "@app.route('/')\n",
        "def home4():\n",
        "    return redirect('/login')\n",
        "\n",
        "@app.route('/login')\n",
        "def login():\n",
        "    session['user'] = 'Nikhil Jha'\n",
        "    return 'User logged in'\n",
        "\n",
        "@app.route('/profile')\n",
        "def profile():\n",
        "    user = session.get('user', 'Guest')\n",
        "    return f'Welcome, {user}!'\n",
        "\n",
        "public_url = ngrok.connect(\"5000\")\n",
        "print(\"Public URL:\", public_url)\n",
        "\n",
        "app.run(port=5000)\n"
      ],
      "metadata": {
        "colab": {
          "base_uri": "https://localhost:8080/"
        },
        "id": "7GpUzwEs2nOe",
        "outputId": "dac3a53a-7955-445c-e0a3-e6039e10317c"
      },
      "execution_count": 39,
      "outputs": [
        {
          "output_type": "stream",
          "name": "stdout",
          "text": [
            "Public URL: NgrokTunnel: \"https://44b3-34-23-50-177.ngrok-free.app\" -> \"http://localhost:5000\"\n",
            " * Serving Flask app '__main__'\n",
            " * Debug mode: off\n"
          ]
        },
        {
          "output_type": "stream",
          "name": "stderr",
          "text": [
            "INFO:werkzeug:\u001b[31m\u001b[1mWARNING: This is a development server. Do not use it in a production deployment. Use a production WSGI server instead.\u001b[0m\n",
            " * Running on http://127.0.0.1:5000\n",
            "INFO:werkzeug:\u001b[33mPress CTRL+C to quit\u001b[0m\n",
            "INFO:werkzeug:127.0.0.1 - - [17/May/2025 20:19:54] \"\u001b[32mGET / HTTP/1.1\u001b[0m\" 302 -\n",
            "INFO:werkzeug:127.0.0.1 - - [17/May/2025 20:19:55] \"GET /login HTTP/1.1\" 200 -\n",
            "INFO:werkzeug:127.0.0.1 - - [17/May/2025 20:19:55] \"\u001b[33mGET /favicon.ico HTTP/1.1\u001b[0m\" 404 -\n",
            "INFO:werkzeug:127.0.0.1 - - [17/May/2025 20:20:04] \"GET /profile HTTP/1.1\" 200 -\n"
          ]
        }
      ]
    },
    {
      "cell_type": "markdown",
      "source": [
        "# 9. How do you redirect to a different route in Flask"
      ],
      "metadata": {
        "id": "c7N_eFgd7lxI"
      }
    },
    {
      "cell_type": "code",
      "source": [
        "from flask import Flask, redirect, url_for\n",
        "from pyngrok import ngrok\n",
        "ngrok.kill()\n",
        "\n",
        "app = Flask(__name__)\n",
        "\n",
        "@app.route('/')\n",
        "def home5():\n",
        "    return 'This is the Home Page for Nikhil Jha!'\n",
        "\n",
        "@app.route('/redirect-home')\n",
        "def redirect_home():\n",
        "    return redirect(url_for('home'))\n",
        "\n",
        "public_url = ngrok.connect(\"5000\")\n",
        "print(\"Public URL:\", public_url)\n",
        "\n",
        "app.run(port=5000)"
      ],
      "metadata": {
        "colab": {
          "base_uri": "https://localhost:8080/"
        },
        "id": "-wPhRuxh35SW",
        "outputId": "5d6c24bc-1237-4106-ad2b-b9bd2d62747d"
      },
      "execution_count": 41,
      "outputs": [
        {
          "output_type": "stream",
          "name": "stdout",
          "text": [
            "Public URL: NgrokTunnel: \"https://b39c-34-23-50-177.ngrok-free.app\" -> \"http://localhost:5000\"\n",
            " * Serving Flask app '__main__'\n",
            " * Debug mode: off\n"
          ]
        },
        {
          "output_type": "stream",
          "name": "stderr",
          "text": [
            "INFO:werkzeug:\u001b[31m\u001b[1mWARNING: This is a development server. Do not use it in a production deployment. Use a production WSGI server instead.\u001b[0m\n",
            " * Running on http://127.0.0.1:5000\n",
            "INFO:werkzeug:\u001b[33mPress CTRL+C to quit\u001b[0m\n",
            "INFO:werkzeug:127.0.0.1 - - [17/May/2025 20:32:27] \"GET / HTTP/1.1\" 200 -\n",
            "INFO:werkzeug:127.0.0.1 - - [17/May/2025 20:32:27] \"\u001b[33mGET /favicon.ico HTTP/1.1\u001b[0m\" 404 -\n",
            "INFO:werkzeug:127.0.0.1 - - [17/May/2025 20:32:34] \"\u001b[33mGET /home HTTP/1.1\u001b[0m\" 404 -\n",
            "WARNING:pyngrok.process.ngrok:t=2025-05-17T20:32:49+0000 lvl=warn msg=\"Stopping forwarder\" name=http-5000-ffcabeeb-512c-433e-9d6f-c525d701c502 acceptErr=\"failed to accept connection: Listener closed\"\n",
            "WARNING:pyngrok.process.ngrok:t=2025-05-17T20:32:49+0000 lvl=warn msg=\"Error restarting forwarder\" name=http-5000-ffcabeeb-512c-433e-9d6f-c525d701c502 err=\"failed to start tunnel: session closed\"\n"
          ]
        }
      ]
    },
    {
      "cell_type": "markdown",
      "source": [
        "# 10. How do you handle errors in Flask (e.g., 404)"
      ],
      "metadata": {
        "id": "bYsg43tR8_Xv"
      }
    },
    {
      "cell_type": "code",
      "source": [
        "from flask import Flask\n",
        "from pyngrok import ngrok\n",
        "ngrok.kill()\n",
        "\n",
        "app = Flask(__name__)\n",
        "\n",
        "@app.errorhandler(404)\n",
        "def page_not_found(error):\n",
        "    return 'Hmm, Looks like this page does not exist. Well things happen.', 404\n",
        "\n",
        "@app.route('/')\n",
        "def home():\n",
        "    return 'Welcome to the homepage!'\n",
        "\n",
        "public_url = ngrok.connect(\"5000\")\n",
        "print(\"Public URL:\", public_url)\n",
        "\n",
        "app.run(port=5000)\n"
      ],
      "metadata": {
        "colab": {
          "base_uri": "https://localhost:8080/"
        },
        "id": "I_hMArfF8OjC",
        "outputId": "12b8a542-e6d9-43e9-fc7f-a135d5d99db2"
      },
      "execution_count": 42,
      "outputs": [
        {
          "output_type": "stream",
          "name": "stdout",
          "text": [
            "Public URL: NgrokTunnel: \"https://a9b4-34-23-50-177.ngrok-free.app\" -> \"http://localhost:5000\"\n",
            " * Serving Flask app '__main__'\n",
            " * Debug mode: off\n"
          ]
        },
        {
          "output_type": "stream",
          "name": "stderr",
          "text": [
            "INFO:werkzeug:\u001b[31m\u001b[1mWARNING: This is a development server. Do not use it in a production deployment. Use a production WSGI server instead.\u001b[0m\n",
            " * Running on http://127.0.0.1:5000\n",
            "INFO:werkzeug:\u001b[33mPress CTRL+C to quit\u001b[0m\n",
            "INFO:werkzeug:127.0.0.1 - - [17/May/2025 20:38:01] \"GET / HTTP/1.1\" 200 -\n",
            "INFO:werkzeug:127.0.0.1 - - [17/May/2025 20:38:01] \"\u001b[33mGET /favicon.ico HTTP/1.1\u001b[0m\" 404 -\n",
            "INFO:werkzeug:127.0.0.1 - - [17/May/2025 20:38:14] \"\u001b[33mGET /login HTTP/1.1\u001b[0m\" 404 -\n"
          ]
        }
      ]
    },
    {
      "cell_type": "markdown",
      "source": [
        "11. How do you structure a Flask app using Blueprints"
      ],
      "metadata": {
        "id": "FA-neWpn-gcT"
      }
    },
    {
      "cell_type": "code",
      "source": [
        "from flask import Flask, Blueprint, redirect\n",
        "from pyngrok import ngrok\n",
        "ngrok.kill()\n",
        "\n",
        "# Define blueprint\n",
        "bp = Blueprint('admin', __name__)\n",
        "\n",
        "@bp.route('/')\n",
        "def home6():\n",
        "    return redirect('/admin')\n",
        "\n",
        "@bp.route('/admin')\n",
        "def admin_panel():\n",
        "    return 'Welcome to the admin panel - Nikhil Jha!'\n",
        "\n",
        "# Register blueprint\n",
        "app = Flask(__name__)\n",
        "app.register_blueprint(bp)\n",
        "\n",
        "# Start ngrok\n",
        "public_url = ngrok.connect(\"5000\")\n",
        "print(\"🔗 Public URL:\", public_url)\n",
        "\n",
        "# Run Flask\n",
        "app.run(port=5000)\n"
      ],
      "metadata": {
        "colab": {
          "base_uri": "https://localhost:8080/"
        },
        "id": "y4vAaSd497nW",
        "outputId": "0ca1843b-b8c1-4865-f90a-40f1e1e5e8f2"
      },
      "execution_count": 48,
      "outputs": [
        {
          "output_type": "stream",
          "name": "stdout",
          "text": [
            "🔗 Public URL: NgrokTunnel: \"https://3bfd-34-23-50-177.ngrok-free.app\" -> \"http://localhost:5000\"\n",
            " * Serving Flask app '__main__'\n",
            " * Debug mode: off\n"
          ]
        },
        {
          "output_type": "stream",
          "name": "stderr",
          "text": [
            "INFO:werkzeug:\u001b[31m\u001b[1mWARNING: This is a development server. Do not use it in a production deployment. Use a production WSGI server instead.\u001b[0m\n",
            " * Running on http://127.0.0.1:5000\n",
            "INFO:werkzeug:\u001b[33mPress CTRL+C to quit\u001b[0m\n",
            "INFO:werkzeug:127.0.0.1 - - [17/May/2025 20:46:25] \"\u001b[32mGET / HTTP/1.1\u001b[0m\" 302 -\n",
            "INFO:werkzeug:127.0.0.1 - - [17/May/2025 20:46:26] \"GET /admin HTTP/1.1\" 200 -\n",
            "INFO:werkzeug:127.0.0.1 - - [17/May/2025 20:46:26] \"\u001b[33mGET /favicon.ico HTTP/1.1\u001b[0m\" 404 -\n"
          ]
        }
      ]
    },
    {
      "cell_type": "markdown",
      "source": [
        "# 12. How do you define a custom Jinja filter in Flask"
      ],
      "metadata": {
        "id": "giaV1qRI__cz"
      }
    },
    {
      "cell_type": "code",
      "source": [
        "from flask import Flask, render_template\n",
        "from pyngrok import ngrok\n",
        "ngrok.kill()\n",
        "\n",
        "app = Flask(__name__)\n",
        "\n",
        "# Define custom Jinja filter\n",
        "@app.template_filter('reverse')\n",
        "def reverse_filter(s):\n",
        "    return s[::-1]\n",
        "\n",
        "# Route that renders your template\n",
        "@app.route('/')\n",
        "def render_jinja_template():\n",
        "    return render_template('jinja_text.html', name='Nikhil Jha')\n",
        "\n",
        "# Start ngrok\n",
        "public_url = ngrok.connect(\"5000\")\n",
        "print(\"🔗 Public URL:\", public_url)\n",
        "\n",
        "app.run(port=5000)\n"
      ],
      "metadata": {
        "colab": {
          "base_uri": "https://localhost:8080/"
        },
        "id": "gABd4Gm0_R-9",
        "outputId": "68365d5a-c14a-4c96-be03-c9260148837a"
      },
      "execution_count": 52,
      "outputs": [
        {
          "output_type": "stream",
          "name": "stdout",
          "text": [
            "🔗 Public URL: NgrokTunnel: \"https://90ff-34-23-50-177.ngrok-free.app\" -> \"http://localhost:5000\"\n",
            " * Serving Flask app '__main__'\n",
            " * Debug mode: off\n"
          ]
        },
        {
          "output_type": "stream",
          "name": "stderr",
          "text": [
            "INFO:werkzeug:\u001b[31m\u001b[1mWARNING: This is a development server. Do not use it in a production deployment. Use a production WSGI server instead.\u001b[0m\n",
            " * Running on http://127.0.0.1:5000\n",
            "INFO:werkzeug:\u001b[33mPress CTRL+C to quit\u001b[0m\n",
            "INFO:werkzeug:127.0.0.1 - - [17/May/2025 20:52:51] \"GET / HTTP/1.1\" 200 -\n",
            "INFO:werkzeug:127.0.0.1 - - [17/May/2025 20:52:52] \"\u001b[33mGET /favicon.ico HTTP/1.1\u001b[0m\" 404 -\n",
            "WARNING:pyngrok.process.ngrok:t=2025-05-17T20:53:16+0000 lvl=warn msg=\"Stopping forwarder\" name=http-5000-1ba71d82-2394-456f-965c-4a3b0be36778 acceptErr=\"failed to accept connection: Listener closed\"\n"
          ]
        }
      ]
    },
    {
      "cell_type": "markdown",
      "source": [
        "# 13. How can you redirect with query parameters in Flask"
      ],
      "metadata": {
        "id": "HWx56y_hBfGd"
      }
    },
    {
      "cell_type": "code",
      "source": [
        "from flask import Flask, redirect, url_for\n",
        "from pyngrok import ngrok\n",
        "ngrok.kill()\n",
        "\n",
        "app = Flask(__name__)\n",
        "\n",
        "@app.route('/search')\n",
        "def search():\n",
        "    return redirect(url_for('home7', query='flask'))\n",
        "\n",
        "@app.route('/')\n",
        "def home7():\n",
        "    return 'Redirected with query parameter.'\n",
        "\n",
        "# Start ngrok\n",
        "public_url = ngrok.connect(\"5000\")\n",
        "print(\"🔗 Public URL:\", public_url)\n",
        "\n",
        "app.run(port=5000)\n"
      ],
      "metadata": {
        "colab": {
          "base_uri": "https://localhost:8080/"
        },
        "id": "9EDPC_tLAScN",
        "outputId": "f158891e-8283-4e0f-d13a-9f77190ff01c"
      },
      "execution_count": 53,
      "outputs": [
        {
          "output_type": "stream",
          "name": "stdout",
          "text": [
            "🔗 Public URL: NgrokTunnel: \"https://46c7-34-23-50-177.ngrok-free.app\" -> \"http://localhost:5000\"\n",
            " * Serving Flask app '__main__'\n",
            " * Debug mode: off\n"
          ]
        },
        {
          "output_type": "stream",
          "name": "stderr",
          "text": [
            "INFO:werkzeug:\u001b[31m\u001b[1mWARNING: This is a development server. Do not use it in a production deployment. Use a production WSGI server instead.\u001b[0m\n",
            " * Running on http://127.0.0.1:5000\n",
            "INFO:werkzeug:\u001b[33mPress CTRL+C to quit\u001b[0m\n",
            "INFO:werkzeug:127.0.0.1 - - [17/May/2025 20:54:46] \"GET / HTTP/1.1\" 200 -\n",
            "INFO:werkzeug:127.0.0.1 - - [17/May/2025 20:54:47] \"\u001b[33mGET /favicon.ico HTTP/1.1\u001b[0m\" 404 -\n"
          ]
        }
      ]
    },
    {
      "cell_type": "markdown",
      "source": [
        "# 14. How do you return JSON responses in Flask"
      ],
      "metadata": {
        "id": "J_t6yY3OB2uF"
      }
    },
    {
      "cell_type": "code",
      "source": [
        "from flask import Flask, jsonify, redirect\n",
        "from pyngrok import ngrok\n",
        "ngrok.kill()\n",
        "\n",
        "app = Flask(__name__)\n",
        "\n",
        "@app.route('/')\n",
        "def home8():\n",
        "    return redirect('/json')\n",
        "\n",
        "@app.route('/json')\n",
        "def return_json():\n",
        "    return jsonify({'status': 'success', 'data': [1, 2, 3]})\n",
        "\n",
        "# Start ngrok\n",
        "public_url = ngrok.connect(\"5000\")\n",
        "print(\"🔗 Public URL:\", public_url)\n",
        "\n",
        "app.run(port=5000)\n"
      ],
      "metadata": {
        "colab": {
          "base_uri": "https://localhost:8080/"
        },
        "id": "pUQcKze8BxKu",
        "outputId": "29a0cd52-5767-4907-89cd-5226cc3b2683"
      },
      "execution_count": 55,
      "outputs": [
        {
          "output_type": "stream",
          "name": "stdout",
          "text": [
            "🔗 Public URL: NgrokTunnel: \"https://642e-34-23-50-177.ngrok-free.app\" -> \"http://localhost:5000\"\n",
            " * Serving Flask app '__main__'\n",
            " * Debug mode: off\n"
          ]
        },
        {
          "output_type": "stream",
          "name": "stderr",
          "text": [
            "INFO:werkzeug:\u001b[31m\u001b[1mWARNING: This is a development server. Do not use it in a production deployment. Use a production WSGI server instead.\u001b[0m\n",
            " * Running on http://127.0.0.1:5000\n",
            "INFO:werkzeug:\u001b[33mPress CTRL+C to quit\u001b[0m\n",
            "INFO:werkzeug:127.0.0.1 - - [17/May/2025 20:56:38] \"\u001b[32mGET / HTTP/1.1\u001b[0m\" 302 -\n",
            "INFO:werkzeug:127.0.0.1 - - [17/May/2025 20:56:38] \"GET /json HTTP/1.1\" 200 -\n",
            "INFO:werkzeug:127.0.0.1 - - [17/May/2025 20:56:39] \"\u001b[33mGET /favicon.ico HTTP/1.1\u001b[0m\" 404 -\n",
            "WARNING:pyngrok.process.ngrok:t=2025-05-17T20:56:50+0000 lvl=warn msg=\"Stopping forwarder\" name=http-5000-9c803196-3c59-4a34-af02-175b5df4242e acceptErr=\"failed to accept connection: Listener closed\"\n",
            "WARNING:pyngrok.process.ngrok:t=2025-05-17T20:56:50+0000 lvl=warn msg=\"Error restarting forwarder\" name=http-5000-9c803196-3c59-4a34-af02-175b5df4242e err=\"failed to start tunnel: session closed\"\n"
          ]
        }
      ]
    },
    {
      "cell_type": "markdown",
      "source": [
        "# 15. How do you capture URL parameters in Flask?"
      ],
      "metadata": {
        "id": "WraPQHjLCUG6"
      }
    },
    {
      "cell_type": "code",
      "source": [
        "from flask import Flask, redirect\n",
        "from pyngrok import ngrok\n",
        "ngrok.kill()\n",
        "\n",
        "app = Flask(__name__)\n",
        "\n",
        "@app.route('/')\n",
        "def home9():\n",
        "    return redirect('/user/Nikhil Jha')\n",
        "\n",
        "@app.route('/user/<username>')\n",
        "def user_profile(username):\n",
        "    return f'Profile page of {username}'\n",
        "\n",
        "# Start ngrok\n",
        "public_url = ngrok.connect(\"5000\")\n",
        "print(\"🔗 Public URL:\", public_url)\n",
        "\n",
        "app.run(port=5000)\n"
      ],
      "metadata": {
        "colab": {
          "base_uri": "https://localhost:8080/"
        },
        "id": "4I6tjeT0CDhH",
        "outputId": "484c1b79-892a-4bcc-8746-2e2441d96643"
      },
      "execution_count": 60,
      "outputs": [
        {
          "output_type": "stream",
          "name": "stdout",
          "text": [
            "🔗 Public URL: NgrokTunnel: \"https://ddc3-34-23-50-177.ngrok-free.app\" -> \"http://localhost:5000\"\n",
            " * Serving Flask app '__main__'\n",
            " * Debug mode: off\n"
          ]
        },
        {
          "output_type": "stream",
          "name": "stderr",
          "text": [
            "INFO:werkzeug:\u001b[31m\u001b[1mWARNING: This is a development server. Do not use it in a production deployment. Use a production WSGI server instead.\u001b[0m\n",
            " * Running on http://127.0.0.1:5000\n",
            "INFO:werkzeug:\u001b[33mPress CTRL+C to quit\u001b[0m\n",
            "INFO:werkzeug:127.0.0.1 - - [17/May/2025 21:01:31] \"\u001b[32mGET / HTTP/1.1\u001b[0m\" 302 -\n",
            "INFO:werkzeug:127.0.0.1 - - [17/May/2025 21:01:32] \"GET /user/Nikhil%20Jha HTTP/1.1\" 200 -\n",
            "INFO:werkzeug:127.0.0.1 - - [17/May/2025 21:01:32] \"\u001b[33mGET /favicon.ico HTTP/1.1\u001b[0m\" 404 -\n"
          ]
        }
      ]
    },
    {
      "cell_type": "code",
      "source": [],
      "metadata": {
        "id": "Fa3GlRVECpKB"
      },
      "execution_count": null,
      "outputs": []
    }
  ]
}